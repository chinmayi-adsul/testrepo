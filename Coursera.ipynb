{
 "cells": [
  {
   "cell_type": "markdown",
   "id": "bad68201",
   "metadata": {},
   "source": [
    "\"<h1>Data Science Tools and Ecosystem</h1>\""
   ]
  },
  {
   "cell_type": "markdown",
   "id": "3b26aca4",
   "metadata": {},
   "source": [
    "<h2>In this notebook, Data Science Tools and Ecosystem are summarized.</h2>"
   ]
  },
  {
   "cell_type": "markdown",
   "id": "8a57c574",
   "metadata": {},
   "source": [
    "<h2>Objectives:</h2>\n",
    "<ul>\n",
    "<li>Some of the popular languages that Data Scientists use.</li>\n",
    "<li>Some of the commonly used libraries used by Data Scientists.</li>\n",
    "<li>Data Science Tools</li>\n",
    "</ul>\n",
    "    "
   ]
  },
  {
   "cell_type": "markdown",
   "id": "a4990d39",
   "metadata": {},
   "source": [
    "<h3>Some of the popular languages that Data Scientists use are:\n",
    "    <ol>\n",
    "        <li>Python</li>\n",
    "        <li>R</li>\n",
    "        <li>Julia</li>\n",
    "    </ol>\n",
    "</h3>"
   ]
  },
  {
   "cell_type": "markdown",
   "id": "2239e09d",
   "metadata": {},
   "source": [
    "<h3>Some of the commonly used libraries used by Data Scientists include:\n",
    "    <ol>\n",
    "        <li>TensorFlow</li>\n",
    "        <li>Matplotlib</li>\n",
    "        <li>Pandas</li>\n",
    "    </ol>\n",
    "    </h3>\n",
    "    \n"
   ]
  },
  {
   "cell_type": "markdown",
   "id": "4b3e485e",
   "metadata": {},
   "source": [
    "<table>\n",
    "  <tr>\n",
    "    <th>Data Science Tools</th>\n",
    "    \n",
    "  </tr>\n",
    "  <tr>\n",
    "    <td>Spyder</td>\n",
    "    \n",
    "  </tr>\n",
    "  <tr>\n",
    "    <td>Jupyter Lab</td>\n",
    "  \n",
    "  </tr>\n",
    "  <tr>\n",
    "    <td>VS Code</td>\n",
    "    \n",
    "  </tr>"
   ]
  },
  {
   "cell_type": "markdown",
   "id": "ba6c94f8",
   "metadata": {},
   "source": [
    "<h3>Below are a few examples of evaluating arithmetic expressions in Python"
   ]
  },
  {
   "cell_type": "code",
   "execution_count": 5,
   "id": "e7d7ff74",
   "metadata": {},
   "outputs": [
    {
     "data": {
      "text/plain": [
       "17"
      ]
     },
     "execution_count": 5,
     "metadata": {},
     "output_type": "execute_result"
    }
   ],
   "source": [
    "#This a simple arithmetic expression to mutiply then add integers.\n",
    "(3*4)+5"
   ]
  },
  {
   "cell_type": "code",
   "execution_count": 6,
   "id": "3e4145f7",
   "metadata": {},
   "outputs": [
    {
     "data": {
      "text/plain": [
       "3.3333333333333335"
      ]
     },
     "execution_count": 6,
     "metadata": {},
     "output_type": "execute_result"
    }
   ],
   "source": [
    "#This will convert 200 minutes to hours by diving by 60\n",
    "200/60"
   ]
  },
  {
   "cell_type": "markdown",
   "id": "ae01a08c",
   "metadata": {},
   "source": [
    "<h2>Author</h2>\n",
    "Chinmayi"
   ]
  },
  {
   "cell_type": "code",
   "execution_count": null,
   "id": "9141e58e",
   "metadata": {},
   "outputs": [],
   "source": []
  }
 ],
 "metadata": {
  "kernelspec": {
   "display_name": "Python 3 (ipykernel)",
   "language": "python",
   "name": "python3"
  },
  "language_info": {
   "codemirror_mode": {
    "name": "ipython",
    "version": 3
   },
   "file_extension": ".py",
   "mimetype": "text/x-python",
   "name": "python",
   "nbconvert_exporter": "python",
   "pygments_lexer": "ipython3",
   "version": "3.11.3"
  }
 },
 "nbformat": 4,
 "nbformat_minor": 5
}
